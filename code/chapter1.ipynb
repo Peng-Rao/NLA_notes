{
 "cells": [
  {
   "cell_type": "code",
   "execution_count": 1,
   "metadata": {},
   "outputs": [
    {
     "name": "stdout",
     "output_type": "stream",
     "text": [
      "<Compressed Sparse Row sparse matrix of dtype 'float64'\n",
      "\twith 5 stored elements and shape (4, 5)>\n",
      "  Coords\tValues\n",
      "  (0, 1)\t1.0\n",
      "  (1, 1)\t2.0\n",
      "  (1, 2)\t-1.0\n",
      "  (3, 0)\t6.6\n",
      "  (3, 4)\t1.4\n"
     ]
    }
   ],
   "source": [
    "import scipy.sparse as sp\n",
    "from scipy import *\n",
    "\n",
    "data = [1.0, 2.0, -1.0, 6.6, 1.4]\n",
    "rows = [0, 1, 1, 3, 3]\n",
    "cols = [1, 1, 2, 0, 4]\n",
    "\n",
    "A = sp.csr_matrix((data, [rows, cols]), shape=(4, 5))\n",
    "print(A)"
   ]
  },
  {
   "cell_type": "code",
   "execution_count": 2,
   "metadata": {},
   "outputs": [
    {
     "data": {
      "text/plain": [
       "array([0, 1, 3, 3, 5], dtype=int32)"
      ]
     },
     "execution_count": 2,
     "metadata": {},
     "output_type": "execute_result"
    }
   ],
   "source": [
    "A.indptr"
   ]
  },
  {
   "cell_type": "code",
   "execution_count": null,
   "metadata": {},
   "outputs": [],
   "source": []
  }
 ],
 "metadata": {
  "kernelspec": {
   "display_name": ".venv",
   "language": "python",
   "name": "python3"
  },
  "language_info": {
   "codemirror_mode": {
    "name": "ipython",
    "version": 3
   },
   "file_extension": ".py",
   "mimetype": "text/x-python",
   "name": "python",
   "nbconvert_exporter": "python",
   "pygments_lexer": "ipython3",
   "version": "3.10.13"
  }
 },
 "nbformat": 4,
 "nbformat_minor": 2
}
